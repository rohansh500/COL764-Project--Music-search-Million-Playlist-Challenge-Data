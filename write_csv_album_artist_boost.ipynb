{
 "cells": [
  {
   "cell_type": "code",
   "execution_count": 1,
   "metadata": {},
   "outputs": [],
   "source": [
    "import json\n",
    "from scipy import sparse\n",
    "from sklearn.metrics.pairwise import cosine_similarity\n",
    "import pysos\n",
    "import numpy as np\n",
    "import similaripy as sim\n",
    "import csv\n",
    "import pickle as pkl\n",
    "import pandas as pd"
   ]
  },
  {
   "cell_type": "markdown",
   "metadata": {},
   "source": [
    "### Loading dataset"
   ]
  },
  {
   "cell_type": "code",
   "execution_count": 2,
   "metadata": {},
   "outputs": [],
   "source": [
    "f_tracks = open(r\"tracks.json\") \n",
    "tracks = json.load(f_tracks)"
   ]
  },
  {
   "cell_type": "code",
   "execution_count": 3,
   "metadata": {},
   "outputs": [],
   "source": [
    "f_playlists = open(r\"playlists.json\") \n",
    "playlists = json.load(f_playlists)"
   ]
  },
  {
   "cell_type": "code",
   "execution_count": 4,
   "metadata": {},
   "outputs": [],
   "source": [
    "f_albums = open(r\"albums.json\") \n",
    "albums = json.load(f_albums)"
   ]
  },
  {
   "cell_type": "code",
   "execution_count": 5,
   "metadata": {},
   "outputs": [],
   "source": [
    "f_artists = open(r\"artists.json\") \n",
    "artists = json.load(f_artists)"
   ]
  },
  {
   "cell_type": "code",
   "execution_count": 6,
   "metadata": {},
   "outputs": [],
   "source": [
    "f_doc2vec = open('playlist_name_test_sim_all.dict', 'rb') \n",
    "doc2vec = pkl.load(f_doc2vec)"
   ]
  },
  {
   "cell_type": "code",
   "execution_count": 7,
   "metadata": {},
   "outputs": [],
   "source": [
    "ptm_sparse = sparse.load_npz(r\"ptm_csr.npz\")\n",
    "ptm_sparse = ptm_sparse.tolil()"
   ]
  },
  {
   "cell_type": "code",
   "execution_count": 8,
   "metadata": {},
   "outputs": [
    {
     "output_type": "stream",
     "name": "stdout",
     "text": [
      "(1000000, 295860)\n"
     ]
    }
   ],
   "source": [
    "artist_sparse = sparse.load_npz(r\"artist_csr.npz\")\n",
    "artist_sparse = artist_sparse.tolil()\n",
    "print(artist_sparse.shape)"
   ]
  },
  {
   "cell_type": "code",
   "execution_count": 10,
   "metadata": {},
   "outputs": [],
   "source": [
    "album_sparse = sparse.load_npz(r\"album_csr.npz\")\n",
    "album_sparse = album_sparse.tolil()"
   ]
  },
  {
   "cell_type": "code",
   "execution_count": 11,
   "metadata": {},
   "outputs": [
    {
     "output_type": "stream",
     "name": "stdout",
     "text": [
      "295860\n734684\n"
     ]
    }
   ],
   "source": [
    "r = len(playlists)\n",
    "c = len(tracks)\n",
    "ar = len(artists)\n",
    "al = len(albums)\n",
    "print(ar)\n",
    "print(al)"
   ]
  },
  {
   "cell_type": "code",
   "execution_count": 17,
   "metadata": {},
   "outputs": [
    {
     "output_type": "execute_result",
     "data": {
      "text/plain": [
       "\"pkl_file = open('index_of_tracks.pkl', 'rb')\\nindex_of_tracks = pkl.load(pkl_file)\\npkl_file.close()\""
      ]
     },
     "metadata": {},
     "execution_count": 17
    }
   ],
   "source": [
    "index_of_tracks = dict()\n",
    "#pysos.Dict('index_track.db')\n",
    "for a, b in enumerate(tracks.items()):\n",
    "    uri = b[0]\n",
    "    v = b[1]\n",
    "    t = v[0]\n",
    "    index_of_tracks[t] = uri\n",
    "'''pkl_file = open('index_of_tracks.pkl', 'rb')\n",
    "index_of_tracks = pkl.load(pkl_file)\n",
    "pkl_file.close()'''"
   ]
  },
  {
   "cell_type": "code",
   "execution_count": 18,
   "metadata": {},
   "outputs": [
    {
     "output_type": "execute_result",
     "data": {
      "text/plain": [
       "\"pkl_file = open('index_of_playlist.pkl', 'rb')\\nindex_of_playlists = pkl.load(pkl_file)\\npkl_file.close()\""
      ]
     },
     "metadata": {},
     "execution_count": 18
    }
   ],
   "source": [
    "p_id = 0\n",
    "index_of_playlist = dict()\n",
    "for i in range(len(playlists)):\n",
    "    n = playlists[i][0]\n",
    "    if n in index_of_playlist:\n",
    "        l = index_of_playlist[n]\n",
    "        l.append(p_id)\n",
    "        index_of_playlist[n] = l\n",
    "    else:\n",
    "        index_of_playlist[n] = [p_id]\n",
    "    p_id = p_id + 1\n",
    "'''pkl_file = open('index_of_playlist.pkl', 'rb')\n",
    "index_of_playlists = pkl.load(pkl_file)\n",
    "pkl_file.close()'''"
   ]
  },
  {
   "cell_type": "code",
   "execution_count": 19,
   "metadata": {},
   "outputs": [
    {
     "output_type": "stream",
     "name": "stdout",
     "text": [
      "(1000000, 2262292)\n"
     ]
    }
   ],
   "source": [
    "print(ptm_sparse.shape)"
   ]
  },
  {
   "cell_type": "code",
   "execution_count": 21,
   "metadata": {},
   "outputs": [],
   "source": [
    "#top_tracks = ptm_sparse.sum(axis=0)\n",
    "#top_tracks = np.sum(ptm_sparse, axis = 0)\n",
    "#top_tracks = top_tracks/len(playlists)\n",
    "pkl_file = open('top_tracks.pkl', 'rb')\n",
    "top_tracks = pkl.load(pkl_file)\n",
    "pkl_file.close()"
   ]
  },
  {
   "cell_type": "markdown",
   "metadata": {},
   "source": [
    "### Setting the parameters"
   ]
  },
  {
   "cell_type": "code",
   "execution_count": 22,
   "metadata": {},
   "outputs": [],
   "source": [
    "norm = 'tfidf'\n",
    "\n",
    "pl_name_weightage = 0.1\n",
    "album_boost_weightage = 0.1\n",
    "artist_boost_weightage = 0.1"
   ]
  },
  {
   "cell_type": "code",
   "execution_count": 23,
   "metadata": {},
   "outputs": [],
   "source": [
    "if norm == 'bm25':\n",
    "    ptm_sparse = sim.normalization.bm25(ptm_sparse)\n",
    "    artist_sparse = sim.normalization.bm25(artist_sparse)\n",
    "    album_sparse = sim.normalization.bm25(album_sparse)\n",
    "elif norm == 'bm25p':\n",
    "    ptm_sparse = sim.normalization.bm25plus(ptm_sparse)\n",
    "    artist_sparse = sim.normalization.bm25(artist_sparse)\n",
    "    album_sparse = sim.normalization.bm25(album_sparse)\n",
    "elif norm == 'tfidf':\n",
    "    ptm_sparse = sim.normalization.tfidf(ptm_sparse)\n",
    "    artist_sparse = sim.normalization.bm25(artist_sparse)\n",
    "    album_sparse = sim.normalization.bm25(album_sparse)"
   ]
  },
  {
   "cell_type": "markdown",
   "metadata": {},
   "source": [
    "### Loading test set"
   ]
  },
  {
   "cell_type": "code",
   "execution_count": 24,
   "metadata": {},
   "outputs": [],
   "source": [
    "#f_test_data = open(r\"D:\\challenge_set.json\",'r')\n",
    "f_test_data = open(r\"sample_test_file.json\",'r')\n",
    "test_data = json.load(f_test_data)"
   ]
  },
  {
   "cell_type": "code",
   "execution_count": 25,
   "metadata": {},
   "outputs": [
    {
     "output_type": "execute_result",
     "data": {
      "text/plain": [
       "44"
      ]
     },
     "metadata": {},
     "execution_count": 25
    }
   ],
   "source": [
    "submission_file = open(r\"submission_6.csv\", 'w', newline='') \n",
    "writer = csv.writer(submission_file)\n",
    "r = ['team_info', 'team_python', 'mt1180750@iitd.ac.in']\n",
    "writer.writerow(r)"
   ]
  },
  {
   "cell_type": "code",
   "execution_count": 26,
   "metadata": {},
   "outputs": [],
   "source": [
    "def get_doc2vec_score(name, doc2vec, index_of_playlist, playlists, tracks):\n",
    "    pl_name_list = doc2vec[name]\n",
    "    doc2vec_score = np.zeros((1,c), dtype = 'uint8')\n",
    "    for j in range(min(len(pl_name_list), 5)):\n",
    "        pln = pl_name_list[j]\n",
    "        pli = index_of_playlist[pln]\n",
    "        for k in range(len(pli)):\n",
    "            ind = pli[k]\n",
    "            tt = playlists[ind][1]\n",
    "            for l in tt:\n",
    "                t_index = tracks[l][0]\n",
    "                doc2vec_score[0,t_index] = doc2vec_score[0,t_index] + 1\n",
    "    return doc2vec_score\n",
    "def get_vectors(track_list, tracks, albums, artists, c, ar, al):\n",
    "    pl_vec = np.zeros((1,c), dtype = np.int8)\n",
    "    pl_artist_vec = np.zeros((1,ar), dtype = np.int8)\n",
    "    pl_album_vec = np.zeros((1,al), dtype = np.int8)\n",
    "    for t in track_list:\n",
    "        t_uri = t['track_uri']\n",
    "        t_ar_uri = t['artist_uri']\n",
    "        t_al_uri = t['album_uri']\n",
    "        \n",
    "        t_index = tracks[t_uri][0]\n",
    "        pl_vec[0,t_index] = 1\n",
    "        \n",
    "        t_ar_index = artists[t_ar_uri][0]\n",
    "        pl_artist_vec[0,t_ar_index] = 1\n",
    "        \n",
    "        t_al_index = albums[t_al_uri][0]\n",
    "        pl_album_vec[0,t_al_index] = 1\n",
    "        \n",
    "    return pl_vec, pl_artist_vec, pl_album_vec\n",
    "def get_artist_sim_score(pl_artist_vec, artist_sparse):\n",
    "    artist_sim = cosine_similarity(artist_sparse,pl_artist_vec)\n",
    "    return artist_sim\n",
    "    #artist_sim = artist_sim.T\n",
    "    #recommend = artist_sim*artist_sparse\n",
    "    #recommend = np.sum(recommend, axis = 0)\n",
    "    #return recommend\n",
    "def get_album_sim_score(pl_album_vec, album_sparse):\n",
    "    album_sim = cosine_similarity(album_sparse,pl_album_vec)\n",
    "    return album_sim\n",
    "    #album_sim = album_sim.T\n",
    "    #recommend = album_sim*album_sparse\n",
    "    #recommend = np.sum(recommend, axis = 0)\n",
    "    #return recommend\n",
    "def get_playlist_sim_score(pl_vec, ptm_sparse):\n",
    "    pl_sim = cosine_similarity(ptm_sparse,pl_vec)\n",
    "    pl_sim = pl_sim.T\n",
    "    recommend = pl_sim*ptm_sparse\n",
    "    recommend = np.sum(recommend, axis = 0)\n",
    "    return recommend\n",
    "def write_to_csv(track_score, pl_vec, playlist_id, index_of_tracks, writer):\n",
    "    indices = (-track_score).argsort()\n",
    "    row = [None]*501\n",
    "    row[0] = playlist_id\n",
    "    i = 1\n",
    "    for j in range(0, 2262292):\n",
    "        ind = indices[j]\n",
    "        if not pl_vec[0, ind] == 0:\n",
    "            row[i] = index_of_tracks[ind]\n",
    "            i = i + 1\n",
    "        if i > 500:\n",
    "            break\n",
    "    writer.writerow(row)\n",
    "def write_to_csv_zero(track_score, playlist_id, index_of_tracks, writer):\n",
    "    indices = (-track_score).argsort()\n",
    "    row = [None]*501\n",
    "    row[0] = playlist_id\n",
    "    i = 1\n",
    "    for j in range(0, 2262292):\n",
    "        ind = indices[0, j]\n",
    "        row[i] = index_of_tracks[ind]\n",
    "        i = i + 1\n",
    "        if i > 500:\n",
    "            break\n",
    "    writer.writerow(row)\n",
    "def get_track_score(pl_vec, ptm_sparse, pl_sim):\n",
    "    #pl_sim = cosine_similarity(ptm_sparse,pl_vec)\n",
    "    pl_sim = pl_sim.T\n",
    "    recommend = pl_sim*ptm_sparse\n",
    "    recommend = np.sum(recommend, axis = 0)\n",
    "    return recommend"
   ]
  },
  {
   "cell_type": "code",
   "execution_count": 27,
   "metadata": {},
   "outputs": [
    {
     "output_type": "stream",
     "name": "stdout",
     "text": [
      "50\n"
     ]
    }
   ],
   "source": [
    "print(len(test_data['playlists']))"
   ]
  },
  {
   "cell_type": "code",
   "execution_count": 28,
   "metadata": {},
   "outputs": [
    {
     "output_type": "stream",
     "name": "stdout",
     "text": [
      "0\n",
      "2\n",
      "4\n",
      "6\n",
      "8\n",
      "10\n",
      "12\n",
      "14\n",
      "16\n",
      "18\n",
      "20\n",
      "22\n",
      "24\n",
      "26\n",
      "28\n",
      "30\n",
      "32\n",
      "34\n",
      "36\n",
      "38\n",
      "40\n",
      "42\n",
      "44\n",
      "46\n",
      "48\n"
     ]
    }
   ],
   "source": [
    "u = 0\n",
    "for pl in test_data['playlists']:\n",
    "    if u%2 == 0:\n",
    "        print(u)\n",
    "\n",
    "    u = u + 1\n",
    "    playlist_id = pl['pid']\n",
    "\n",
    "    track_list = pl['tracks']\n",
    "    track_score = np.zeros((1,c))\n",
    "    doc2vec_score = np.zeros((1,c))\n",
    "    if 'name' in pl:\n",
    "        playlist_name = pl['name']\n",
    "        doc2vec_score = get_doc2vec_score(playlist_name, doc2vec, index_of_playlist, playlists, tracks)\n",
    "\n",
    "    if pl['num_samples'] == 0:\n",
    "        track_score = top_tracks\n",
    "        track_score = track_score + (pl_name_weightage*doc2vec_score)\n",
    "        write_to_csv_zero(track_score, playlist_id, index_of_tracks, writer)\n",
    "    else:\n",
    "        pl_vec, pl_artist_vec, pl_album_vec = get_vectors(track_list, tracks, albums, artists, c, ar, al)\n",
    "        \n",
    "        artist_sim_score = cosine_similarity(artist_sparse,pl_artist_vec)\n",
    "        album_sim_score = cosine_similarity(album_sparse, pl_album_vec)\n",
    "        playlist_sim_score = cosine_similarity(ptm_sparse,pl_vec)\n",
    "        \n",
    "        playlist_sim_score = playlist_sim_score + (artist_boost_weightage*artist_sim_score) + (album_boost_weightage*album_sim_score)\n",
    "        \n",
    "        track_score = get_track_score(pl_vec, ptm_sparse, playlist_sim_score)\n",
    "        #track_score = get_playlist_sim_score(pl_vec, ptm_sparse)\n",
    "        \n",
    "        \n",
    "        #track_score = track_score + (artist_boost_weightage*artist_sim_score)\n",
    "        \n",
    "        \n",
    "        #track_score = track_score + (album_boost_weightage*album_sim_score)\n",
    "        \n",
    "        #track_score = track_score + (pl_name_weightage*doc2vec_score)\n",
    "        write_to_csv(track_score, pl_vec, playlist_id, index_of_tracks, writer)\n"
   ]
  },
  {
   "cell_type": "code",
   "execution_count": 32,
   "metadata": {},
   "outputs": [],
   "source": []
  }
 ],
 "metadata": {
  "kernelspec": {
   "name": "python3",
   "display_name": "Python 3.8.5 64-bit",
   "metadata": {
    "interpreter": {
     "hash": "f8d30093ad299afcaa957f522e28d8688cc2bcb7baf29f509215f90c59c9585b"
    }
   }
  },
  "language_info": {
   "codemirror_mode": {
    "name": "ipython",
    "version": 3
   },
   "file_extension": ".py",
   "mimetype": "text/x-python",
   "name": "python",
   "nbconvert_exporter": "python",
   "pygments_lexer": "ipython3",
   "version": "3.8.5-final"
  }
 },
 "nbformat": 4,
 "nbformat_minor": 4
}